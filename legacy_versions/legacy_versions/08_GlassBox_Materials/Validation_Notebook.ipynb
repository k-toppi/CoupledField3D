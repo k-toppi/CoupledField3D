{
 "cells": [
  {
   "cell_type": "markdown",
   "metadata": {},
   "source": [
    "# Validation Notebook for the 3D Coupled Field Model\n",
    "\n",
    "[![Open In Colab](https://colab.research.google.com/assets/colab-badge.svg)](https://colab.research.google.com/github/k-toppi/CoupledField3D/blob/main/08_GlassBox_Materials/Validation_Notebook.ipynb)\n",
    "\n",
    "**Author:** Toshiya Konno & Gemini\n",
    "**Version:** 5.0 (2025-08-02)\n",
    "\n",
    "## Objective\n",
    "This notebook provides a transparent, minimal working example of the key validation and analysis methods used in our paper. The goal is to demonstrate how we evaluate the output of our complex 3D simulations to ensure the physical correctness of our results. This serves as the \"exit inspection\" of our model's black box."
   ]
  },
  {
   "cell_type": "markdown",
   "metadata": {},
   "source": [
    "### Section 1: Signal-to-Noise Ratio (SNR) Calculation\n",
    "\n",
    "Here, we demonstrate the exact procedure for calculating the SNR from a time-series data of the barrier's trajectory, as described in Appendix A.2 of the paper."
   ]
  },
  {
   "cell_type": "code",
   "execution_count": null,
   "metadata": {},
   "outputs": [],
   "source": [
    "import numpy as np\n",
    "import matplotlib.pyplot as plt\n",
    "from scipy.signal import welch\n",
    "\n",
    "# --- Parameters from the paper ---\n",
    "dt = 0.005\n",
    "M = 50.0\n",
    "k_mech = 10.0\n",
    "f_signal = np.sqrt(k_mech / M) / (2 * np.pi) # Signal frequency\n",
    "\n",
    "def calculate_snr_welch(trajectory, dt, f_signal):\n",
    "    \"\"\"Calculates SNR using Welch's method for stability.\"\"\"\n",
    "    fs = 1.0 / dt\n",
    "    nperseg = len(trajectory) // 8 # Window length for Welch's method\n",
    "    \n",
    "    # Calculate Power Spectral Density\n",
    "    f, Pxx = welch(trajectory, fs, nperseg=nperseg)\n",
    "    \n",
    "    # Find the signal peak\n",
    "    signal_idx = np.argmin(np.abs(f - f_signal))\n",
    "    signal_power = Pxx[signal_idx]\n",
    "    \n",
    "    # Define a frequency band around the signal to exclude for noise calculation\n",
    "    df = f[1] - f[0] # Frequency resolution\n",
    "    noise_indices = (np.abs(f - f_signal) > 2 * df) & (f > 0)\n",
    "    \n",
    "    # Calculate noise power as the mean of the baseline\n",
    "    noise_power = np.mean(Pxx[noise_indices])\n",
    "    \n",
    "    if noise_power <= 0: return -np.inf, f, Pxx\n",
    "    \n",
    "    snr_db = 10 * np.log10(signal_power / noise_power)\n",
    "    return snr_db, f, Pxx\n",
    "\n",
    "# --- Generate Sample Data (simulating a noisy signal) ---\n",
    "T_total = 100\n",
    "N_steps = int(T_total / dt)\n",
    "t = np.linspace(0, T_total, N_steps)\n",
    "signal = 0.1 * np.sin(2 * np.pi * f_signal * t)\n",
    "noise = 0.5 * np.random.normal(size=len(t))\n",
    "sample_trajectory = signal + noise\n",
    "\n",
    "# --- Execute and Visualize ---\n",
    "snr_value, f, Pxx = calculate_snr_welch(sample_trajectory, dt, f_signal)\n",
    "\n",
    "plt.figure(figsize=(10, 6))\n",
    "plt.semilogy(f, Pxx)\n",
    "plt.title(f'Power Spectral Density (Calculated SNR: {snr_value:.2f} dB)')\n",
    "plt.xlabel('Frequency (Hz)')\n",
    "plt.ylabel('PSD [V**2/Hz]')\n",
    "plt.grid(True)\n",
    "plt.axvline(f_signal, color='r', linestyle='--', label=f'Signal Frequency ({f_signal:.3f} Hz)')\n",
    "plt.legend()\n",
    "plt.show()\n",
    "\n",
    "print(f\"The calculated SNR is: {snr_value:.2f} dB\")"
   ]
  },
  {
   "cell_type": "markdown",
   "metadata": {},
   "source": [
    "### Section 2: Linear Stability Analysis (\u03ba_eff)\n",
    "\n",
    "This section demonstrates the core logic of the linear stability analysis presented in Appendix A.3. We show how the effective spring constant, \u03ba_eff, is determined by the balance between the intrinsic restoring force and the quantum feedback."
   ]
  },
  {
   "cell_type": "code",
   "execution_count": null,
   "metadata": {},
   "outputs": [],
   "source": [
    "# --- Parameters from the paper ---\n",
    "k_mech = 10.0 # Intrinsic stiffness of the barrier\n",
    "\n",
    "# In a real simulation, this value would be calculated numerically from <\u03c8_eq|\u2202\u00b2H/\u2202u\u00b2|\u03c8_eq>\n",
    "# Here, we use a hypothetical value to demonstrate the principle.\n",
    "quantum_feedback_stiffness = 10.5 # Effective 'negative' stiffness from quantum field\n",
    "\n",
    "# --- Calculate \u03ba_eff ---\n",
    "kappa_eff = k_mech - quantum_feedback_stiffness\n",
    "\n",
    "print(f\"Intrinsic Stiffness (k_mech): {k_mech}\")\n",
    "print(f\"Quantum-induced 'Negative' Stiffness: {quantum_feedback_stiffness}\")\n",
    "print(f\"-----------------------------------------\")\n",
    "print(f\"Effective Stiffness (\u03ba_eff): {kappa_eff:.2f}\")\n",
    "\n",
    "if kappa_eff > 0:\n",
    "    print(\"Result: The system is in a STABLE state (like the 'Pinned State').\")\n",
    "elif kappa_eff == 0:\n",
    "    print(\"Result: The system is at a CRITICAL POINT (phase transition boundary). \")\n",
    "else:\n",
    "    print(\"Result: The system is in an UNSTABLE state (leading to 'TEOS').\")"
   ]
  }
 ],
 "metadata": {
  "kernelspec": {
   "display_name": "Python 3",
   "language": "python",
   "name": "python3"
  },
  "language_info": {
   "name": "python"
  }
 },
 "nbformat": 4,
 "nbformat_minor": 4
}