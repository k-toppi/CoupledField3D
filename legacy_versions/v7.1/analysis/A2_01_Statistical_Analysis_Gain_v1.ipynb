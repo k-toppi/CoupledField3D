{
  "nbformat": 4,
  "nbformat_minor": 0,
  "metadata": {
    "colab": {
      "provenance": [],
      "gpuType": "A100"
    },
    "kernelspec": {
      "name": "python3",
      "display_name": "Python 3"
    },
    "language_info": {
      "name": "python"
    },
    "accelerator": "GPU"
  },
  "cells": [
    {
      "cell_type": "code",
      "source": [
        "# ===============================================================\n",
        "# SCRIPT: A2_01_Statistical_Analysis_Gain_v1.ipynb (Corrected)\n",
        "# ===============================================================\n",
        "import pandas as pd\n",
        "from scipy import stats\n",
        "import numpy as np\n",
        "\n",
        "# --- ファイルの読み込み ---\n",
        "file_path = 'M2_summary_3D_gain_vs_temp.csv'\n",
        "try:\n",
        "    df = pd.read_csv(file_path)\n",
        "except FileNotFoundError:\n",
        "    print(f\"エラー: ファイル '{file_path}' が見つかりません。\")\n",
        "    exit()\n",
        "\n",
        "# データの確認\n",
        "print(\"--- 読み込みデータ ---\")\n",
        "print(df)\n",
        "print(\"\\n\" + \"=\"*30 + \"\\n\")\n",
        "\n",
        "# --- 統計解析の実行 ---\n",
        "try:\n",
        "    temperature = df['Temperature']\n",
        "    # 【修正点】列名を 'Gain' から 'Gain |N|' に修正\n",
        "    gain = df['Gain |N|']\n",
        "except KeyError:\n",
        "    print(f\"エラー: CSVファイルに必要な列が見つかりません。\")\n",
        "    print(f\"利用可能な列: {df.columns.tolist()}\")\n",
        "    exit()\n",
        "\n",
        "# 1. Kendallのτ（タウ）相関係数の計算\n",
        "tau, p_value = stats.kendalltau(temperature, gain)\n",
        "\n",
        "# 2. Theil-Sen推定量による傾きの計算\n",
        "res = stats.theilslopes(gain, temperature, 0.95)\n",
        "\n",
        "# --- 結果の表示 ---\n",
        "print(\"--- 統計解析結果 ---\")\n",
        "print(f\"データ点数 (n): {len(temperature)}\")\n",
        "print(f\"Kendall's tau (τ): {tau:.4f}\")\n",
        "print(f\"P-value: {p_value:.4f}\")\n",
        "print(\"\\n\")\n",
        "print(\"Theil-Sen Estimator:\")\n",
        "print(f\"  - 推定された傾き (Median Slope): {res[0]:.4e}\")\n",
        "print(f\"  - 切片 (Intercept): {res[1]:.4e}\")\n",
        "print(f\"  - 傾きの95%信頼区間 (Lower, Upper): ({res[2]:.4e}, {res[3]:.4e})\")\n",
        "\n",
        "# --- 論文用のテキスト出力 ---\n",
        "print(\"\\n\" + \"=\"*30 + \"\\n\")\n",
        "print(\"--- LaTeX Appendix用のテキスト案 ---\")\n",
        "print(f\"The analysis yielded a Kendall's rank correlation coefficient of τ = {tau:.2f} (n=3).\")\n",
        "print(f\"The Theil-Sen estimator for the slope of gain versus temperature was {res[0]:.2e}, with a 95% confidence interval of ({res[2]:.2e}, {res[3]:.2e}).\")"
      ],
      "metadata": {
        "colab": {
          "base_uri": "https://localhost:8080/"
        },
        "id": "kGMPZnm9HXVi",
        "outputId": "bb50ae22-e415-453c-c039-3b1dbf367a05"
      },
      "execution_count": 1,
      "outputs": [
        {
          "output_type": "stream",
          "name": "stdout",
          "text": [
            "--- 読み込みデータ ---\n",
            "   Temperature      Gain |N|  Phase ∠N (deg)  Coherence\n",
            "0        0.001  3.127388e-06      -81.660259   0.032791\n",
            "1        0.100  2.181737e-07      146.014658   0.007250\n",
            "2        1.000  2.435090e-07       60.206334   0.000004\n",
            "\n",
            "==============================\n",
            "\n",
            "--- 統計解析結果 ---\n",
            "データ点数 (n): 3\n",
            "Kendall's tau (τ): -0.3333\n",
            "P-value: 1.0000\n",
            "\n",
            "\n",
            "Theil-Sen Estimator:\n",
            "  - 推定された傾き (Median Slope): -2.8868e-06\n",
            "  - 切片 (Intercept): 5.3219e-07\n",
            "  - 傾きの95%信頼区間 (Lower, Upper): (-2.9386e-05, 2.8150e-08)\n",
            "\n",
            "==============================\n",
            "\n",
            "--- LaTeX Appendix用のテキスト案 ---\n",
            "The analysis yielded a Kendall's rank correlation coefficient of τ = -0.33 (n=3).\n",
            "The Theil-Sen estimator for the slope of gain versus temperature was -2.89e-06, with a 95% confidence interval of (-2.94e-05, 2.82e-08).\n"
          ]
        }
      ]
    }
  ]
}