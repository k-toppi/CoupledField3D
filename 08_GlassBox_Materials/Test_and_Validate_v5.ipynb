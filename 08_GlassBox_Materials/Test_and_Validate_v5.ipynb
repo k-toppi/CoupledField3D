{
  "nbformat": 4,
  "nbformat_minor": 0,
  "metadata": {
    "colab": {
      "provenance": [],
      "gpuType": "A100"
    },
    "kernelspec": {
      "name": "python3",
      "display_name": "Python 3"
    },
    "language_info": {
      "name": "python"
    },
    "accelerator": "GPU"
  },
  "cells": [
    {
      "cell_type": "code",
      "execution_count": 1,
      "metadata": {
        "colab": {
          "base_uri": "https://localhost:8080/"
        },
        "id": "pFxeSSAJEDzy",
        "outputId": "9971f397-4f89-4129-8c9e-1890cc69a27a"
      },
      "outputs": [
        {
          "output_type": "stream",
          "name": "stdout",
          "text": [
            "Starting all simulations for the paper...\n",
            "\n",
            "Running simulation set for gamma=1.0 (Feedback: True)...\n"
          ]
        },
        {
          "output_type": "stream",
          "name": "stderr",
          "text": [
            "gamma=1.0: 100%|██████████| 26/26 [07:44<00:00, 17.86s/it]\n"
          ]
        },
        {
          "output_type": "stream",
          "name": "stdout",
          "text": [
            "Data saved to ./04_Universality_Data/SNR_vs_T_gamma_1.0.csv\n",
            "\n",
            "Running simulation set for gamma=1.5 (Feedback: True)...\n"
          ]
        },
        {
          "output_type": "stream",
          "name": "stderr",
          "text": [
            "gamma=1.5: 100%|██████████| 26/26 [07:45<00:00, 17.89s/it]\n"
          ]
        },
        {
          "output_type": "stream",
          "name": "stdout",
          "text": [
            "Data saved to ./04_Universality_Data/SNR_vs_T_gamma_1.5.csv\n",
            "\n",
            "Running simulation set for gamma=2.0 (Feedback: True)...\n"
          ]
        },
        {
          "output_type": "stream",
          "name": "stderr",
          "text": [
            "gamma=2.0: 100%|██████████| 26/26 [07:43<00:00, 17.83s/it]\n"
          ]
        },
        {
          "output_type": "stream",
          "name": "stdout",
          "text": [
            "Data saved to ./04_Universality_Data/SNR_vs_T_gamma_2.0.csv\n",
            "\n",
            "Running simulation set for gamma=1.5 (Feedback: False)...\n"
          ]
        },
        {
          "output_type": "stream",
          "name": "stderr",
          "text": [
            "gamma=1.5:   0%|          | 0/26 [00:00<?, ?it/s]/usr/local/lib/python3.11/dist-packages/numpy/_core/_methods.py:185: RuntimeWarning: invalid value encountered in subtract\n",
            "  x = asanyarray(arr - arrmean)\n",
            "gamma=1.5: 100%|██████████| 26/26 [05:39<00:00, 13.07s/it]\n"
          ]
        },
        {
          "output_type": "stream",
          "name": "stdout",
          "text": [
            "Data saved to ./05_Control_Experiment/Control_Experiment_SNR_vs_T_ClassicalOnly.csv\n",
            "\n",
            "Running simulation set for gamma=2.5 (Feedback: True)...\n"
          ]
        },
        {
          "output_type": "stream",
          "name": "stderr",
          "text": [
            "gamma=2.5: 100%|██████████| 26/26 [07:46<00:00, 17.94s/it]"
          ]
        },
        {
          "output_type": "stream",
          "name": "stdout",
          "text": [
            "Data saved to ./06_Supplementary_StrongDamping/SNR_vs_T_gamma_2.5.csv\n",
            "\n",
            "All simulations completed successfully.\n",
            "\n",
            "Total execution time: 36.65 minutes.\n"
          ]
        },
        {
          "output_type": "stream",
          "name": "stderr",
          "text": [
            "\n"
          ]
        },
        {
          "output_type": "stream",
          "name": "stdout",
          "text": [
            "Executed on GPU: NVIDIA A100-SXM4-40GB\n"
          ]
        }
      ],
      "source": [
        "# -*- coding: utf-8 -*-\n",
        "# ===================================================================\n",
        "# run_all_simulations.py\n",
        "# Author: Toshiya Konno & Gemini\n",
        "# Date: 2025-08-02\n",
        "#\n",
        "# Description:\n",
        "# This script runs all the necessary simulations to generate the raw\n",
        "# data (CSV files) used in the paper.\n",
        "# It also reports the total execution time.\n",
        "#\n",
        "# Usage:\n",
        "# python run_all_simulations.py\n",
        "# ===================================================================\n",
        "\n",
        "import numpy as np\n",
        "import pandas as pd\n",
        "from scipy.signal import welch\n",
        "from tqdm import tqdm\n",
        "import os\n",
        "import time # ★★★ 実行時間計測のために追加 ★★★\n",
        "\n",
        "# --- Global Simulation Parameters ---\n",
        "M = 50.0\n",
        "k_mech = 10.0\n",
        "k_B = 1.0\n",
        "dt = 0.005\n",
        "T_total = 200.0\n",
        "N_steps = int(T_total / dt)\n",
        "t_coords = np.linspace(0, T_total, N_steps)\n",
        "N_runs = 100\n",
        "T_values = np.linspace(0.0, 0.5, 26)\n",
        "A_signal = 0.01\n",
        "f_signal = np.sqrt(k_mech / M) / (2 * np.pi)\n",
        "\n",
        "# --- Helper Functions ---\n",
        "def get_forces(z, v, t_val, T, gamma, feedback_on=True):\n",
        "    \"\"\"Calculates the total force on the barrier.\"\"\"\n",
        "    F_restoring = -k_mech * z\n",
        "    F_dissipation = -gamma * v\n",
        "    F_thermal = np.sqrt(2 * gamma * k_B * T / dt) * np.random.normal(0, 1)\n",
        "\n",
        "    F_signal_term = 0.0\n",
        "    if feedback_on:\n",
        "        F_signal_term = A_signal * np.cos(2 * np.pi * f_signal * t_val)\n",
        "\n",
        "    return F_restoring + F_dissipation + F_thermal + F_signal_term\n",
        "\n",
        "def calculate_snr_welch(trajectory, dt, f_signal):\n",
        "    \"\"\"Calculates SNR using Welch's method for stability.\"\"\"\n",
        "    fs = 1.0 / dt\n",
        "    nperseg = len(trajectory) // 8\n",
        "    f, Pxx = welch(trajectory, fs, nperseg=nperseg)\n",
        "\n",
        "    signal_idx = np.argmin(np.abs(f - f_signal))\n",
        "    signal_power = Pxx[signal_idx]\n",
        "\n",
        "    noise_indices = (np.abs(f - f_signal) > 2 * (f[1]-f[0])) & (f > 0)\n",
        "    noise_power = np.mean(Pxx[noise_indices])\n",
        "\n",
        "    return 10 * np.log10(signal_power / noise_power) if noise_power > 0 else -np.inf\n",
        "\n",
        "def run_simulation_set(gamma, feedback_on, output_dir, filename):\n",
        "    \"\"\"Runs a full set of simulations for a given gamma and feedback state.\"\"\"\n",
        "    print(f\"\\nRunning simulation set for gamma={gamma} (Feedback: {feedback_on})...\")\n",
        "    results = []\n",
        "    for T in tqdm(T_values, desc=f\"gamma={gamma}\"):\n",
        "        snr_runs = []\n",
        "        for _ in range(N_runs):\n",
        "            z, v = 0.0, 0.0\n",
        "            z_trajectory = np.zeros(N_steps)\n",
        "            for i in range(N_steps):\n",
        "                F = get_forces(z, v, t_coords[i], T, gamma, feedback_on)\n",
        "                a = F / M\n",
        "                v += a * dt\n",
        "                z += v * dt\n",
        "                z_trajectory[i] = z\n",
        "\n",
        "            transient_steps = N_steps // 2\n",
        "            snr = calculate_snr_welch(z_trajectory[transient_steps:], dt, f_signal)\n",
        "            snr_runs.append(snr)\n",
        "\n",
        "        mean_snr = np.mean(snr_runs)\n",
        "        sem_snr = np.std(snr_runs) / np.sqrt(N_runs)\n",
        "        results.append({'Temperature': T, 'Mean_SNR': mean_snr, 'SEM_SNR': sem_snr})\n",
        "\n",
        "    df = pd.DataFrame(results)\n",
        "\n",
        "    if not os.path.exists(output_dir):\n",
        "        os.makedirs(output_dir)\n",
        "\n",
        "    full_path = os.path.join(output_dir, filename)\n",
        "    df.to_csv(full_path, index=False)\n",
        "    print(f\"Data saved to {full_path}\")\n",
        "\n",
        "# --- Main Execution ---\n",
        "if __name__ == \"__main__\":\n",
        "    # ★★★ 実行時間計測を開始 ★★★\n",
        "    start_time = time.time()\n",
        "\n",
        "    print(\"Starting all simulations for the paper...\")\n",
        "\n",
        "    base_path = \".\"\n",
        "\n",
        "    dir_fig3 = os.path.join(base_path, \"04_Universality_Data\")\n",
        "    run_simulation_set(gamma=1.0, feedback_on=True, output_dir=dir_fig3, filename=\"SNR_vs_T_gamma_1.0.csv\")\n",
        "    run_simulation_set(gamma=1.5, feedback_on=True, output_dir=dir_fig3, filename=\"SNR_vs_T_gamma_1.5.csv\")\n",
        "    run_simulation_set(gamma=2.0, feedback_on=True, output_dir=dir_fig3, filename=\"SNR_vs_T_gamma_2.0.csv\")\n",
        "\n",
        "    dir_fig4 = os.path.join(base_path, \"05_Control_Experiment\")\n",
        "    run_simulation_set(gamma=1.5, feedback_on=False, output_dir=dir_fig4, filename=\"Control_Experiment_SNR_vs_T_ClassicalOnly.csv\")\n",
        "\n",
        "    dir_figA1 = os.path.join(base_path, \"06_Supplementary_StrongDamping\")\n",
        "    run_simulation_set(gamma=2.5, feedback_on=True, output_dir=dir_figA1, filename=\"SNR_vs_T_gamma_2.5.csv\")\n",
        "\n",
        "    print(\"\\nAll simulations completed successfully.\")\n",
        "\n",
        "    # ★★★ 実行時間を計算して表示 ★★★\n",
        "    end_time = time.time()\n",
        "    elapsed_time = end_time - start_time\n",
        "    print(f\"\\nTotal execution time: {elapsed_time / 60:.2f} minutes.\")\n",
        "    # A simple way to get a hint of the CPU/GPU environment in Colab\n",
        "    try:\n",
        "        gpu_info = !nvidia-smi --query-gpu=gpu_name --format=csv,noheader\n",
        "        if gpu_info:\n",
        "            print(f\"Executed on GPU: {gpu_info[0]}\")\n",
        "    except:\n",
        "        print(\"Executed on CPU.\")"
      ]
    }
  ]
}